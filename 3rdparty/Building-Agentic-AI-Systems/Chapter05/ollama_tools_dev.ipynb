{
 "cells": [
  {
   "cell_type": "code",
   "execution_count": null,
   "id": "82496c02",
   "metadata": {},
   "outputs": [],
   "source": [
    "print('Life is made of small moments like these')"
   ]
  },
  {
   "cell_type": "code",
   "execution_count": null,
   "id": "182ba33e",
   "metadata": {},
   "outputs": [],
   "source": [
    "%pip install -U openai ipywidgets crewai langchain-openai"
   ]
  },
  {
   "cell_type": "code",
   "execution_count": null,
   "id": "807ee47d",
   "metadata": {},
   "outputs": [],
   "source": [
    "# from crewai import Agent, Task, Crew, Process\n",
    "\n",
    "import os\n",
    "\n",
    "from crewai import Agent, Crew, Process, Task\n",
    "from langchain_openai import ChatOpenAI\n",
    "from typing import Dict\n",
    "\n",
    "os.environ[\"OPENAI_API_KEY\"] = \"testapikey\"\n",
    "\n",
    "class HTNTravelPlanner:\n",
    "    def __init__(self):\n",
    "        # Create specialized agents for different aspects of travel planning\n",
    "        self.flight_specialist = Agent(\n",
    "            role='Flight Planning Specialist',\n",
    "            goal='Handle all aspects of flight arrangements',\n",
    "            backstory=\"Expert in airline bookings and flight logistics.\",\n",
    "            verbose=False\n",
    "        )\n",
    "        \n",
    "        self.accommodation_specialist = Agent(\n",
    "            role='Accommodation Specialist',\n",
    "            goal='Manage all accommodation-related planning',\n",
    "            backstory=\"Expert in hotel and accommodation arrangements.\",\n",
    "            verbose=False\n",
    "        )\n",
    "\n",
    "        self.activity_specialist = Agent(\n",
    "            role='Vacation Activity Specialist',\n",
    "            goal='Manage all activity-related planning',\n",
    "            backstory=\"Expert in recreational activity arrangements.\",\n",
    "            verbose=False\n",
    "        )\n",
    "        \n",
    "        # Define the manager LLM for hierarchical process\n",
    "        \n",
    "        self.manager_llm = ChatOpenAI(\n",
    "            model=\"ollama/granite-code:8b\",\n",
    "            base_url=\"http://localhost:11434\"\n",
    "        )\n",
    "\n",
    "    def plan_travel(self, request: str) -> Dict:\n",
    "        # Define the top-level task for travel planning\n",
    "        travel_planning_task = Task(\n",
    "            description=f\"\"\"\n",
    "            Plan a comprehensive flight itinerary based on the following request:\n",
    "            {request}\n",
    "            \n",
    "            The plan should include:\n",
    "            - Flight arrangements\n",
    "            - Accommodation bookings\n",
    "            - Any other relevant travel components\n",
    "            \"\"\",\n",
    "            expected_output=\"A detailed flight itinerary covering all requested aspects.\",\n",
    "            agent=None  # No specific agent; the manager will delegate subtasks\n",
    "        )\n",
    "\n",
    "        # Create the crew with a hierarchical process\n",
    "        crew = Crew(\n",
    "            agents=[self.flight_specialist, self.accommodation_specialist, self.activity_specialist],\n",
    "            tasks=[travel_planning_task],\n",
    "            process=Process.hierarchical,\n",
    "            manager_llm=self.manager_llm,\n",
    "            verbose=False\n",
    "        )\n",
    "\n",
    "        # Execute the hierarchical plan\n",
    "        return crew.kickoff()\n"
   ]
  },
  {
   "cell_type": "code",
   "execution_count": null,
   "id": "648e5aaa",
   "metadata": {},
   "outputs": [],
   "source": [
    "planner = HTNTravelPlanner()\n",
    "\n",
    "# Define a travel request\n",
    "request = \"\"\"\n",
    "I need to plan a trip to Paris from New York for 5 days.\n",
    "The plan should include:\n",
    "- Flights for 2 adults\n",
    "- Hotel accommodations in central Paris with breakfast\n",
    "- Airport transfers\n",
    "- A day trip to Versailles.\n",
    "\"\"\"\n",
    "\n",
    "# Execute the hierarchical planning process\n",
    "result = planner.plan_travel(request)\n",
    "\n",
    "# Print the result\n",
    "print(\"Final Travel Plan:\")\n",
    "print(result)"
   ]
  }
 ],
 "metadata": {
  "kernelspec": {
   "display_name": ".venv",
   "language": "python",
   "name": "python3"
  },
  "language_info": {
   "codemirror_mode": {
    "name": "ipython",
    "version": 3
   },
   "file_extension": ".py",
   "mimetype": "text/x-python",
   "name": "python",
   "nbconvert_exporter": "python",
   "pygments_lexer": "ipython3",
   "version": "3.12.10"
  }
 },
 "nbformat": 4,
 "nbformat_minor": 5
}
