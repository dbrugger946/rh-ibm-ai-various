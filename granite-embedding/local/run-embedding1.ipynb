{
 "cells": [
  {
   "cell_type": "code",
   "execution_count": 1,
   "metadata": {},
   "outputs": [
    {
     "name": "stdout",
     "output_type": "stream",
     "text": [
      "Requirement already satisfied: sentence_transformers in /home/user1/projects/rh-ibm-ai-various/.venv/lib64/python3.12/site-packages (4.1.0)\n",
      "Requirement already satisfied: transformers<5.0.0,>=4.41.0 in /home/user1/projects/rh-ibm-ai-various/.venv/lib64/python3.12/site-packages (from sentence_transformers) (4.51.3)\n",
      "Requirement already satisfied: tqdm in /home/user1/projects/rh-ibm-ai-various/.venv/lib64/python3.12/site-packages (from sentence_transformers) (4.67.1)\n",
      "Requirement already satisfied: torch>=1.11.0 in /home/user1/projects/rh-ibm-ai-various/.venv/lib64/python3.12/site-packages (from sentence_transformers) (2.6.0)\n",
      "Requirement already satisfied: scikit-learn in /home/user1/projects/rh-ibm-ai-various/.venv/lib64/python3.12/site-packages (from sentence_transformers) (1.6.1)\n",
      "Requirement already satisfied: scipy in /home/user1/projects/rh-ibm-ai-various/.venv/lib64/python3.12/site-packages (from sentence_transformers) (1.15.2)\n",
      "Requirement already satisfied: huggingface-hub>=0.20.0 in /home/user1/projects/rh-ibm-ai-various/.venv/lib64/python3.12/site-packages (from sentence_transformers) (0.30.2)\n",
      "Requirement already satisfied: Pillow in /home/user1/projects/rh-ibm-ai-various/.venv/lib64/python3.12/site-packages (from sentence_transformers) (11.2.1)\n",
      "Requirement already satisfied: typing_extensions>=4.5.0 in /home/user1/projects/rh-ibm-ai-various/.venv/lib64/python3.12/site-packages (from sentence_transformers) (4.13.2)\n",
      "Requirement already satisfied: filelock in /home/user1/projects/rh-ibm-ai-various/.venv/lib64/python3.12/site-packages (from huggingface-hub>=0.20.0->sentence_transformers) (3.18.0)\n",
      "Requirement already satisfied: fsspec>=2023.5.0 in /home/user1/projects/rh-ibm-ai-various/.venv/lib64/python3.12/site-packages (from huggingface-hub>=0.20.0->sentence_transformers) (2025.3.2)\n",
      "Requirement already satisfied: packaging>=20.9 in /home/user1/projects/rh-ibm-ai-various/.venv/lib64/python3.12/site-packages (from huggingface-hub>=0.20.0->sentence_transformers) (25.0)\n",
      "Requirement already satisfied: pyyaml>=5.1 in /home/user1/projects/rh-ibm-ai-various/.venv/lib64/python3.12/site-packages (from huggingface-hub>=0.20.0->sentence_transformers) (6.0.2)\n",
      "Requirement already satisfied: requests in /home/user1/projects/rh-ibm-ai-various/.venv/lib64/python3.12/site-packages (from huggingface-hub>=0.20.0->sentence_transformers) (2.32.3)\n",
      "Requirement already satisfied: networkx in /home/user1/projects/rh-ibm-ai-various/.venv/lib64/python3.12/site-packages (from torch>=1.11.0->sentence_transformers) (3.4.2)\n",
      "Requirement already satisfied: jinja2 in /home/user1/projects/rh-ibm-ai-various/.venv/lib64/python3.12/site-packages (from torch>=1.11.0->sentence_transformers) (3.1.6)\n",
      "Requirement already satisfied: nvidia-cuda-nvrtc-cu12==12.4.127 in /home/user1/projects/rh-ibm-ai-various/.venv/lib64/python3.12/site-packages (from torch>=1.11.0->sentence_transformers) (12.4.127)\n",
      "Requirement already satisfied: nvidia-cuda-runtime-cu12==12.4.127 in /home/user1/projects/rh-ibm-ai-various/.venv/lib64/python3.12/site-packages (from torch>=1.11.0->sentence_transformers) (12.4.127)\n",
      "Requirement already satisfied: nvidia-cuda-cupti-cu12==12.4.127 in /home/user1/projects/rh-ibm-ai-various/.venv/lib64/python3.12/site-packages (from torch>=1.11.0->sentence_transformers) (12.4.127)\n",
      "Requirement already satisfied: nvidia-cudnn-cu12==9.1.0.70 in /home/user1/projects/rh-ibm-ai-various/.venv/lib64/python3.12/site-packages (from torch>=1.11.0->sentence_transformers) (9.1.0.70)\n",
      "Requirement already satisfied: nvidia-cublas-cu12==12.4.5.8 in /home/user1/projects/rh-ibm-ai-various/.venv/lib64/python3.12/site-packages (from torch>=1.11.0->sentence_transformers) (12.4.5.8)\n",
      "Requirement already satisfied: nvidia-cufft-cu12==11.2.1.3 in /home/user1/projects/rh-ibm-ai-various/.venv/lib64/python3.12/site-packages (from torch>=1.11.0->sentence_transformers) (11.2.1.3)\n",
      "Requirement already satisfied: nvidia-curand-cu12==10.3.5.147 in /home/user1/projects/rh-ibm-ai-various/.venv/lib64/python3.12/site-packages (from torch>=1.11.0->sentence_transformers) (10.3.5.147)\n",
      "Requirement already satisfied: nvidia-cusolver-cu12==11.6.1.9 in /home/user1/projects/rh-ibm-ai-various/.venv/lib64/python3.12/site-packages (from torch>=1.11.0->sentence_transformers) (11.6.1.9)\n",
      "Requirement already satisfied: nvidia-cusparse-cu12==12.3.1.170 in /home/user1/projects/rh-ibm-ai-various/.venv/lib64/python3.12/site-packages (from torch>=1.11.0->sentence_transformers) (12.3.1.170)\n",
      "Requirement already satisfied: nvidia-cusparselt-cu12==0.6.2 in /home/user1/projects/rh-ibm-ai-various/.venv/lib64/python3.12/site-packages (from torch>=1.11.0->sentence_transformers) (0.6.2)\n",
      "Requirement already satisfied: nvidia-nccl-cu12==2.21.5 in /home/user1/projects/rh-ibm-ai-various/.venv/lib64/python3.12/site-packages (from torch>=1.11.0->sentence_transformers) (2.21.5)\n",
      "Requirement already satisfied: nvidia-nvtx-cu12==12.4.127 in /home/user1/projects/rh-ibm-ai-various/.venv/lib64/python3.12/site-packages (from torch>=1.11.0->sentence_transformers) (12.4.127)\n",
      "Requirement already satisfied: nvidia-nvjitlink-cu12==12.4.127 in /home/user1/projects/rh-ibm-ai-various/.venv/lib64/python3.12/site-packages (from torch>=1.11.0->sentence_transformers) (12.4.127)\n",
      "Requirement already satisfied: triton==3.2.0 in /home/user1/projects/rh-ibm-ai-various/.venv/lib64/python3.12/site-packages (from torch>=1.11.0->sentence_transformers) (3.2.0)\n",
      "Requirement already satisfied: setuptools in /home/user1/projects/rh-ibm-ai-various/.venv/lib64/python3.12/site-packages (from torch>=1.11.0->sentence_transformers) (79.0.0)\n",
      "Requirement already satisfied: sympy==1.13.1 in /home/user1/projects/rh-ibm-ai-various/.venv/lib64/python3.12/site-packages (from torch>=1.11.0->sentence_transformers) (1.13.1)\n",
      "Requirement already satisfied: mpmath<1.4,>=1.1.0 in /home/user1/projects/rh-ibm-ai-various/.venv/lib64/python3.12/site-packages (from sympy==1.13.1->torch>=1.11.0->sentence_transformers) (1.3.0)\n",
      "Requirement already satisfied: numpy>=1.17 in /home/user1/projects/rh-ibm-ai-various/.venv/lib64/python3.12/site-packages (from transformers<5.0.0,>=4.41.0->sentence_transformers) (2.2.5)\n",
      "Requirement already satisfied: regex!=2019.12.17 in /home/user1/projects/rh-ibm-ai-various/.venv/lib64/python3.12/site-packages (from transformers<5.0.0,>=4.41.0->sentence_transformers) (2024.11.6)\n",
      "Requirement already satisfied: tokenizers<0.22,>=0.21 in /home/user1/projects/rh-ibm-ai-various/.venv/lib64/python3.12/site-packages (from transformers<5.0.0,>=4.41.0->sentence_transformers) (0.21.1)\n",
      "Requirement already satisfied: safetensors>=0.4.3 in /home/user1/projects/rh-ibm-ai-various/.venv/lib64/python3.12/site-packages (from transformers<5.0.0,>=4.41.0->sentence_transformers) (0.5.3)\n",
      "Requirement already satisfied: joblib>=1.2.0 in /home/user1/projects/rh-ibm-ai-various/.venv/lib64/python3.12/site-packages (from scikit-learn->sentence_transformers) (1.4.2)\n",
      "Requirement already satisfied: threadpoolctl>=3.1.0 in /home/user1/projects/rh-ibm-ai-various/.venv/lib64/python3.12/site-packages (from scikit-learn->sentence_transformers) (3.6.0)\n",
      "Requirement already satisfied: MarkupSafe>=2.0 in /home/user1/projects/rh-ibm-ai-various/.venv/lib64/python3.12/site-packages (from jinja2->torch>=1.11.0->sentence_transformers) (3.0.2)\n",
      "Requirement already satisfied: charset-normalizer<4,>=2 in /home/user1/projects/rh-ibm-ai-various/.venv/lib64/python3.12/site-packages (from requests->huggingface-hub>=0.20.0->sentence_transformers) (3.4.1)\n",
      "Requirement already satisfied: idna<4,>=2.5 in /home/user1/projects/rh-ibm-ai-various/.venv/lib64/python3.12/site-packages (from requests->huggingface-hub>=0.20.0->sentence_transformers) (3.10)\n",
      "Requirement already satisfied: urllib3<3,>=1.21.1 in /home/user1/projects/rh-ibm-ai-various/.venv/lib64/python3.12/site-packages (from requests->huggingface-hub>=0.20.0->sentence_transformers) (2.4.0)\n",
      "Requirement already satisfied: certifi>=2017.4.17 in /home/user1/projects/rh-ibm-ai-various/.venv/lib64/python3.12/site-packages (from requests->huggingface-hub>=0.20.0->sentence_transformers) (2025.1.31)\n",
      "Requirement already satisfied: ipywidgets in /home/user1/projects/rh-ibm-ai-various/.venv/lib64/python3.12/site-packages (8.1.6)\n",
      "Requirement already satisfied: comm>=0.1.3 in /home/user1/projects/rh-ibm-ai-various/.venv/lib64/python3.12/site-packages (from ipywidgets) (0.2.2)\n",
      "Requirement already satisfied: ipython>=6.1.0 in /home/user1/projects/rh-ibm-ai-various/.venv/lib64/python3.12/site-packages (from ipywidgets) (9.1.0)\n",
      "Requirement already satisfied: traitlets>=4.3.1 in /home/user1/projects/rh-ibm-ai-various/.venv/lib64/python3.12/site-packages (from ipywidgets) (5.14.3)\n",
      "Requirement already satisfied: widgetsnbextension~=4.0.14 in /home/user1/projects/rh-ibm-ai-various/.venv/lib64/python3.12/site-packages (from ipywidgets) (4.0.14)\n",
      "Requirement already satisfied: jupyterlab_widgets~=3.0.14 in /home/user1/projects/rh-ibm-ai-various/.venv/lib64/python3.12/site-packages (from ipywidgets) (3.0.14)\n",
      "Requirement already satisfied: decorator in /home/user1/projects/rh-ibm-ai-various/.venv/lib64/python3.12/site-packages (from ipython>=6.1.0->ipywidgets) (5.2.1)\n",
      "Requirement already satisfied: ipython-pygments-lexers in /home/user1/projects/rh-ibm-ai-various/.venv/lib64/python3.12/site-packages (from ipython>=6.1.0->ipywidgets) (1.1.1)\n",
      "Requirement already satisfied: jedi>=0.16 in /home/user1/projects/rh-ibm-ai-various/.venv/lib64/python3.12/site-packages (from ipython>=6.1.0->ipywidgets) (0.19.2)\n",
      "Requirement already satisfied: matplotlib-inline in /home/user1/projects/rh-ibm-ai-various/.venv/lib64/python3.12/site-packages (from ipython>=6.1.0->ipywidgets) (0.1.7)\n",
      "Requirement already satisfied: pexpect>4.3 in /home/user1/projects/rh-ibm-ai-various/.venv/lib64/python3.12/site-packages (from ipython>=6.1.0->ipywidgets) (4.9.0)\n",
      "Requirement already satisfied: prompt_toolkit<3.1.0,>=3.0.41 in /home/user1/projects/rh-ibm-ai-various/.venv/lib64/python3.12/site-packages (from ipython>=6.1.0->ipywidgets) (3.0.51)\n",
      "Requirement already satisfied: pygments>=2.4.0 in /home/user1/projects/rh-ibm-ai-various/.venv/lib64/python3.12/site-packages (from ipython>=6.1.0->ipywidgets) (2.19.1)\n",
      "Requirement already satisfied: stack_data in /home/user1/projects/rh-ibm-ai-various/.venv/lib64/python3.12/site-packages (from ipython>=6.1.0->ipywidgets) (0.6.3)\n",
      "Requirement already satisfied: parso<0.9.0,>=0.8.4 in /home/user1/projects/rh-ibm-ai-various/.venv/lib64/python3.12/site-packages (from jedi>=0.16->ipython>=6.1.0->ipywidgets) (0.8.4)\n",
      "Requirement already satisfied: ptyprocess>=0.5 in /home/user1/projects/rh-ibm-ai-various/.venv/lib64/python3.12/site-packages (from pexpect>4.3->ipython>=6.1.0->ipywidgets) (0.7.0)\n",
      "Requirement already satisfied: wcwidth in /home/user1/projects/rh-ibm-ai-various/.venv/lib64/python3.12/site-packages (from prompt_toolkit<3.1.0,>=3.0.41->ipython>=6.1.0->ipywidgets) (0.2.13)\n",
      "Requirement already satisfied: executing>=1.2.0 in /home/user1/projects/rh-ibm-ai-various/.venv/lib64/python3.12/site-packages (from stack_data->ipython>=6.1.0->ipywidgets) (2.2.0)\n",
      "Requirement already satisfied: asttokens>=2.1.0 in /home/user1/projects/rh-ibm-ai-various/.venv/lib64/python3.12/site-packages (from stack_data->ipython>=6.1.0->ipywidgets) (3.0.0)\n",
      "Requirement already satisfied: pure-eval in /home/user1/projects/rh-ibm-ai-various/.venv/lib64/python3.12/site-packages (from stack_data->ipython>=6.1.0->ipywidgets) (0.2.3)\n"
     ]
    }
   ],
   "source": [
    "! pip install sentence_transformers  \n",
    "\n",
    "! pip install ipywidgets"
   ]
  },
  {
   "cell_type": "markdown",
   "metadata": {},
   "source": [
    "The model can then be used to encode pairs of text and find the similarity between their representations"
   ]
  },
  {
   "cell_type": "code",
   "execution_count": 2,
   "metadata": {},
   "outputs": [
    {
     "data": {
      "application/vnd.jupyter.widget-view+json": {
       "model_id": "e2e165b047424689bba55ce7b79130b6",
       "version_major": 2,
       "version_minor": 0
      },
      "text/plain": [
       "modules.json:   0%|          | 0.00/350 [00:00<?, ?B/s]"
      ]
     },
     "metadata": {},
     "output_type": "display_data"
    },
    {
     "data": {
      "application/vnd.jupyter.widget-view+json": {
       "model_id": "cb162c25803a4566863be7af2dd275c8",
       "version_major": 2,
       "version_minor": 0
      },
      "text/plain": [
       "README.md:   0%|          | 0.00/467k [00:00<?, ?B/s]"
      ]
     },
     "metadata": {},
     "output_type": "display_data"
    },
    {
     "data": {
      "application/vnd.jupyter.widget-view+json": {
       "model_id": "11bf4227592e4c10baed160b5d28b8a9",
       "version_major": 2,
       "version_minor": 0
      },
      "text/plain": [
       "sentence_bert_config.json:   0%|          | 0.00/54.0 [00:00<?, ?B/s]"
      ]
     },
     "metadata": {},
     "output_type": "display_data"
    },
    {
     "data": {
      "application/vnd.jupyter.widget-view+json": {
       "model_id": "15905252bdf24ee2adb79ccc4122e19f",
       "version_major": 2,
       "version_minor": 0
      },
      "text/plain": [
       "config.json:   0%|          | 0.00/683 [00:00<?, ?B/s]"
      ]
     },
     "metadata": {},
     "output_type": "display_data"
    },
    {
     "data": {
      "application/vnd.jupyter.widget-view+json": {
       "model_id": "df457484115242ddbc4766821ad52d72",
       "version_major": 2,
       "version_minor": 0
      },
      "text/plain": [
       "model.safetensors:   0%|          | 0.00/60.6M [00:00<?, ?B/s]"
      ]
     },
     "metadata": {},
     "output_type": "display_data"
    },
    {
     "data": {
      "application/vnd.jupyter.widget-view+json": {
       "model_id": "0007edd7cf3f4f399c7ada2676ead7d5",
       "version_major": 2,
       "version_minor": 0
      },
      "text/plain": [
       "tokenizer_config.json:   0%|          | 0.00/1.09k [00:00<?, ?B/s]"
      ]
     },
     "metadata": {},
     "output_type": "display_data"
    },
    {
     "data": {
      "application/vnd.jupyter.widget-view+json": {
       "model_id": "d430a0df236c4d429361ef894042dd50",
       "version_major": 2,
       "version_minor": 0
      },
      "text/plain": [
       "vocab.json:   0%|          | 0.00/798k [00:00<?, ?B/s]"
      ]
     },
     "metadata": {},
     "output_type": "display_data"
    },
    {
     "data": {
      "application/vnd.jupyter.widget-view+json": {
       "model_id": "3e66cbe7484f4e94b188fe386fbb104f",
       "version_major": 2,
       "version_minor": 0
      },
      "text/plain": [
       "merges.txt:   0%|          | 0.00/456k [00:00<?, ?B/s]"
      ]
     },
     "metadata": {},
     "output_type": "display_data"
    },
    {
     "data": {
      "application/vnd.jupyter.widget-view+json": {
       "model_id": "abc0c48cd2034c3daf6d30eb5c72e48e",
       "version_major": 2,
       "version_minor": 0
      },
      "text/plain": [
       "tokenizer.json:   0%|          | 0.00/1.36M [00:00<?, ?B/s]"
      ]
     },
     "metadata": {},
     "output_type": "display_data"
    },
    {
     "data": {
      "application/vnd.jupyter.widget-view+json": {
       "model_id": "78799db2d84148cdb45e194d1639efe9",
       "version_major": 2,
       "version_minor": 0
      },
      "text/plain": [
       "special_tokens_map.json:   0%|          | 0.00/239 [00:00<?, ?B/s]"
      ]
     },
     "metadata": {},
     "output_type": "display_data"
    },
    {
     "data": {
      "application/vnd.jupyter.widget-view+json": {
       "model_id": "1c64549bb91d478081c3cca1d8315cd9",
       "version_major": 2,
       "version_minor": 0
      },
      "text/plain": [
       "config.json:   0%|          | 0.00/191 [00:00<?, ?B/s]"
      ]
     },
     "metadata": {},
     "output_type": "display_data"
    },
    {
     "name": "stdout",
     "output_type": "stream",
     "text": [
      "tensor([[0.8975, 0.4462],\n",
      "        [0.4522, 0.6298]])\n"
     ]
    }
   ],
   "source": [
    "from sentence_transformers import SentenceTransformer, util\n",
    "\n",
    "model_path = \"ibm-granite/granite-embedding-30m-english\"\n",
    "# Load the Sentence Transformer model\n",
    "model = SentenceTransformer(model_path)\n",
    "\n",
    "input_queries = [\n",
    "    ' Who made the song My achy breaky heart? ',\n",
    "    'summit define'\n",
    "    ]\n",
    "\n",
    "input_passages = [\n",
    "    \"Achy Breaky Heart is a country song written by Don Von Tress. Originally titled Don't Tell My Heart and performed by The Marcy Brothers in 1991. \",\n",
    "    \"Definition of summit for English Language Learners. : 1 the highest point of a mountain : the top of a mountain. : 2 the highest level. : 3 a meeting or series of meetings between the leaders of two or more governments.\"\n",
    "    ]\n",
    "\n",
    "# encode queries and passages\n",
    "query_embeddings = model.encode(input_queries)\n",
    "passage_embeddings = model.encode(input_passages)\n",
    "\n",
    "# calculate cosine similarity\n",
    "print(util.cos_sim(query_embeddings, passage_embeddings))"
   ]
  }
 ],
 "metadata": {
  "kernelspec": {
   "display_name": ".venv",
   "language": "python",
   "name": "python3"
  },
  "language_info": {
   "codemirror_mode": {
    "name": "ipython",
    "version": 3
   },
   "file_extension": ".py",
   "mimetype": "text/x-python",
   "name": "python",
   "nbconvert_exporter": "python",
   "pygments_lexer": "ipython3",
   "version": "3.12.9"
  }
 },
 "nbformat": 4,
 "nbformat_minor": 2
}
