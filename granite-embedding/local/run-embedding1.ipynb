{
 "cells": [
  {
   "cell_type": "code",
   "execution_count": null,
   "metadata": {},
   "outputs": [],
   "source": [
    "! pip install sentence_transformers  \n",
    "\n",
    "! pip install ipywidgets"
   ]
  },
  {
   "cell_type": "markdown",
   "metadata": {},
   "source": [
    "The model can then be used to encode pairs of text and find the similarity between their representations"
   ]
  },
  {
   "cell_type": "code",
   "execution_count": null,
   "metadata": {},
   "outputs": [],
   "source": [
    "from sentence_transformers import SentenceTransformer, util\n",
    "\n",
    "model_path = \"ibm-granite/granite-embedding-30m-english\"\n",
    "# Load the Sentence Transformer model\n",
    "model = SentenceTransformer(model_path)\n",
    "\n",
    "input_queries = [\n",
    "    ' Who made the song My achy breaky heart? ',\n",
    "    'summit define'\n",
    "    ]\n",
    "\n",
    "input_passages = [\n",
    "    \"Achy Breaky Heart is a country song written by Don Von Tress. Originally titled Don't Tell My Heart and performed by The Marcy Brothers in 1991. \",\n",
    "    \"Definition of summit for English Language Learners. : 1 the highest point of a mountain : the top of a mountain. : 2 the highest level. : 3 a meeting or series of meetings between the leaders of two or more governments.\"\n",
    "    ]\n",
    "\n",
    "# encode queries and passages\n",
    "query_embeddings = model.encode(input_queries)\n",
    "passage_embeddings = model.encode(input_passages)\n",
    "\n",
    "# calculate cosine similarity\n",
    "print(util.cos_sim(query_embeddings, passage_embeddings))"
   ]
  }
 ],
 "metadata": {
  "kernelspec": {
   "display_name": ".venv",
   "language": "python",
   "name": "python3"
  },
  "language_info": {
   "codemirror_mode": {
    "name": "ipython",
    "version": 3
   },
   "file_extension": ".py",
   "mimetype": "text/x-python",
   "name": "python",
   "nbconvert_exporter": "python",
   "pygments_lexer": "ipython3",
   "version": "3.12.9"
  }
 },
 "nbformat": 4,
 "nbformat_minor": 2
}
